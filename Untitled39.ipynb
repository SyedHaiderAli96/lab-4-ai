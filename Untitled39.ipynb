{
 "cells": [
  {
   "cell_type": "code",
   "execution_count": 2,
   "id": "35781bd1-0128-419a-baf9-46c2f8d915f9",
   "metadata": {},
   "outputs": [
    {
     "name": "stderr",
     "output_type": "stream",
     "text": [
      "C:\\Users\\ABC\\anaconda3\\Lib\\site-packages\\sklearn\\base.py:439: UserWarning: X does not have valid feature names, but StandardScaler was fitted with feature names\n",
      "  warnings.warn(\n"
     ]
    },
    {
     "name": "stdout",
     "output_type": "stream",
     "text": [
      "Vehicle Type Classification (Naïve Bayes)\n",
      "\n",
      "Dataset:\n",
      "   Engine_Size  Horsepower  Weight Vehicle_Type  Type_Encoded\n",
      "0          1.0          70     800      Compact             0\n",
      "1          1.5          90    1000      Compact             0\n",
      "2          2.0         120    1200        Sedan             2\n",
      "3          2.5         150    1500          SUV             1\n",
      "4          3.0         200    1800          SUV             1\n",
      "5          1.2          85     900      Compact             0\n",
      "6          1.8         110    1100        Sedan             2\n",
      "7          2.2         140    1300          SUV             1\n",
      "8          2.8         180    1600        Sedan             2\n",
      "9          3.5         220    2000        Truck             3\n",
      "\n",
      "New Vehicle Prediction:\n",
      "Engine Size: 1.6, Horsepower: 100, Weight: 950\n",
      "Predicted Vehicle Type: SUV\n",
      "\n",
      "Confusion Matrix:\n",
      "[[0 2 0]\n",
      " [0 0 0]\n",
      " [0 1 0]]\n",
      "\n",
      "Classification Report:\n"
     ]
    },
    {
     "ename": "ValueError",
     "evalue": "Number of classes, 3, does not match size of target_names, 4. Try specifying the labels parameter",
     "output_type": "error",
     "traceback": [
      "\u001b[1;31m---------------------------------------------------------------------------\u001b[0m",
      "\u001b[1;31mValueError\u001b[0m                                Traceback (most recent call last)",
      "Cell \u001b[1;32mIn[2], line 64\u001b[0m\n\u001b[0;32m     61\u001b[0m \u001b[38;5;28mprint\u001b[39m(confusion_matrix(y_test, y_pred))\n\u001b[0;32m     63\u001b[0m \u001b[38;5;28mprint\u001b[39m(\u001b[38;5;124m\"\u001b[39m\u001b[38;5;130;01m\\n\u001b[39;00m\u001b[38;5;124mClassification Report:\u001b[39m\u001b[38;5;124m\"\u001b[39m)\n\u001b[1;32m---> 64\u001b[0m \u001b[38;5;28mprint\u001b[39m(classification_report(y_test, y_pred, \n\u001b[0;32m     65\u001b[0m                             target_names\u001b[38;5;241m=\u001b[39mle_type\u001b[38;5;241m.\u001b[39mclasses_))\n\u001b[0;32m     67\u001b[0m \u001b[38;5;66;03m# Probability Calculation\u001b[39;00m\n\u001b[0;32m     68\u001b[0m prob_prediction \u001b[38;5;241m=\u001b[39m nb_classifier\u001b[38;5;241m.\u001b[39mpredict_proba(new_vehicle_scaled)\n",
      "File \u001b[1;32m~\\anaconda3\\Lib\\site-packages\\sklearn\\metrics\\_classification.py:2332\u001b[0m, in \u001b[0;36mclassification_report\u001b[1;34m(y_true, y_pred, labels, target_names, sample_weight, digits, output_dict, zero_division)\u001b[0m\n\u001b[0;32m   2326\u001b[0m         warnings\u001b[38;5;241m.\u001b[39mwarn(\n\u001b[0;32m   2327\u001b[0m             \u001b[38;5;124m\"\u001b[39m\u001b[38;5;124mlabels size, \u001b[39m\u001b[38;5;132;01m{0}\u001b[39;00m\u001b[38;5;124m, does not match size of target_names, \u001b[39m\u001b[38;5;132;01m{1}\u001b[39;00m\u001b[38;5;124m\"\u001b[39m\u001b[38;5;241m.\u001b[39mformat(\n\u001b[0;32m   2328\u001b[0m                 \u001b[38;5;28mlen\u001b[39m(labels), \u001b[38;5;28mlen\u001b[39m(target_names)\n\u001b[0;32m   2329\u001b[0m             )\n\u001b[0;32m   2330\u001b[0m         )\n\u001b[0;32m   2331\u001b[0m     \u001b[38;5;28;01melse\u001b[39;00m:\n\u001b[1;32m-> 2332\u001b[0m         \u001b[38;5;28;01mraise\u001b[39;00m \u001b[38;5;167;01mValueError\u001b[39;00m(\n\u001b[0;32m   2333\u001b[0m             \u001b[38;5;124m\"\u001b[39m\u001b[38;5;124mNumber of classes, \u001b[39m\u001b[38;5;132;01m{0}\u001b[39;00m\u001b[38;5;124m, does not match size of \u001b[39m\u001b[38;5;124m\"\u001b[39m\n\u001b[0;32m   2334\u001b[0m             \u001b[38;5;124m\"\u001b[39m\u001b[38;5;124mtarget_names, \u001b[39m\u001b[38;5;132;01m{1}\u001b[39;00m\u001b[38;5;124m. Try specifying the labels \u001b[39m\u001b[38;5;124m\"\u001b[39m\n\u001b[0;32m   2335\u001b[0m             \u001b[38;5;124m\"\u001b[39m\u001b[38;5;124mparameter\u001b[39m\u001b[38;5;124m\"\u001b[39m\u001b[38;5;241m.\u001b[39mformat(\u001b[38;5;28mlen\u001b[39m(labels), \u001b[38;5;28mlen\u001b[39m(target_names))\n\u001b[0;32m   2336\u001b[0m         )\n\u001b[0;32m   2337\u001b[0m \u001b[38;5;28;01mif\u001b[39;00m target_names \u001b[38;5;129;01mis\u001b[39;00m \u001b[38;5;28;01mNone\u001b[39;00m:\n\u001b[0;32m   2338\u001b[0m     target_names \u001b[38;5;241m=\u001b[39m [\u001b[38;5;124m\"\u001b[39m\u001b[38;5;132;01m%s\u001b[39;00m\u001b[38;5;124m\"\u001b[39m \u001b[38;5;241m%\u001b[39m l \u001b[38;5;28;01mfor\u001b[39;00m l \u001b[38;5;129;01min\u001b[39;00m labels]\n",
      "\u001b[1;31mValueError\u001b[0m: Number of classes, 3, does not match size of target_names, 4. Try specifying the labels parameter"
     ]
    }
   ],
   "source": [
    "import numpy as np\n",
    "import pandas as pd\n",
    "from sklearn.model_selection import train_test_split\n",
    "from sklearn.preprocessing import LabelEncoder, StandardScaler\n",
    "from sklearn.naive_bayes import GaussianNB\n",
    "from sklearn.metrics import classification_report, confusion_matrix\n",
    "\n",
    "# Create Dataset for Vehicle Type Classification\n",
    "data = {\n",
    "    'Engine_Size': [1.0, 1.5, 2.0, 2.5, 3.0, 1.2, 1.8, 2.2, 2.8, 3.5],\n",
    "    'Horsepower': [70, 90, 120, 150, 200, 85, 110, 140, 180, 220],\n",
    "    'Weight': [800, 1000, 1200, 1500, 1800, 900, 1100, 1300, 1600, 2000],\n",
    "    'Vehicle_Type': ['Compact', 'Compact', 'Sedan', 'SUV', 'SUV', \n",
    "                     'Compact', 'Sedan', 'SUV', 'Sedan', 'Truck']\n",
    "}\n",
    "\n",
    "# Create DataFrame\n",
    "df = pd.DataFrame(data)\n",
    "\n",
    "# Preprocessing\n",
    "# Encode categorical variables\n",
    "le_type = LabelEncoder()\n",
    "df['Type_Encoded'] = le_type.fit_transform(df['Vehicle_Type'])\n",
    "\n",
    "# Feature Scaling\n",
    "scaler = StandardScaler()\n",
    "X = scaler.fit_transform(df[['Engine_Size', 'Horsepower', 'Weight']])\n",
    "y = df['Type_Encoded']\n",
    "\n",
    "# Split the dataset\n",
    "X_train, X_test, y_train, y_test = train_test_split(\n",
    "    X, y, test_size=0.3, random_state=42\n",
    ")\n",
    "\n",
    "# Create Naïve Bayes Classifier\n",
    "nb_classifier = GaussianNB()\n",
    "\n",
    "# Train the model\n",
    "nb_classifier.fit(X_train, y_train)\n",
    "\n",
    "# Prepare new vehicle for prediction\n",
    "new_vehicle = np.array([[1.6, 100, 950]])  # Example vehicle features\n",
    "new_vehicle_scaled = scaler.transform(new_vehicle)\n",
    "\n",
    "# Prediction for new vehicle\n",
    "prediction = nb_classifier.predict(new_vehicle_scaled)\n",
    "\n",
    "# Output Results\n",
    "print(\"Vehicle Type Classification (Naïve Bayes)\")\n",
    "print(\"\\nDataset:\")\n",
    "print(df)\n",
    "\n",
    "print(\"\\nNew Vehicle Prediction:\")\n",
    "print(\"Engine Size: 1.6, Horsepower: 100, Weight: 950\")\n",
    "print(\"Predicted Vehicle Type:\", le_type.inverse_transform(prediction)[0])\n",
    "\n",
    "# Model Evaluation\n",
    "y_pred = nb_classifier.predict(X_test)\n",
    "\n",
    "print(\"\\nConfusion Matrix:\")\n",
    "print(confusion_matrix(y_test, y_pred))\n",
    "\n",
    "print(\"\\nClassification Report:\")\n",
    "print(classification_report(y_test, y_pred, \n",
    "                            target_names=le_type.classes_))\n",
    "\n",
    "# Probability Calculation\n",
    "prob_prediction = nb_classifier.predict_proba(new_vehicle_scaled)\n",
    "print(\"\\nVehicle Type Probabilities:\")\n",
    "for i, prob in enumerate(prob_prediction[0]):\n",
    "    print(f\"{le_type.classes_[i]}: {prob:.2%}\")"
   ]
  },
  {
   "cell_type": "code",
   "execution_count": null,
   "id": "4dd3328e-fffa-43fa-8a20-a908461af74e",
   "metadata": {},
   "outputs": [],
   "source": []
  }
 ],
 "metadata": {
  "kernelspec": {
   "display_name": "Python 3 (ipykernel)",
   "language": "python",
   "name": "python3"
  },
  "language_info": {
   "codemirror_mode": {
    "name": "ipython",
    "version": 3
   },
   "file_extension": ".py",
   "mimetype": "text/x-python",
   "name": "python",
   "nbconvert_exporter": "python",
   "pygments_lexer": "ipython3",
   "version": "3.11.7"
  }
 },
 "nbformat": 4,
 "nbformat_minor": 5
}
