{
 "cells": [
  {
   "cell_type": "code",
   "execution_count": 1,
   "id": "32d318b8-17c6-4f6d-a89e-b325e000db50",
   "metadata": {},
   "outputs": [
    {
     "name": "stderr",
     "output_type": "stream",
     "text": [
      "C:\\Users\\ABC\\anaconda3\\Lib\\site-packages\\sklearn\\base.py:439: UserWarning: X does not have valid feature names, but StandardScaler was fitted with feature names\n",
      "  warnings.warn(\n"
     ]
    },
    {
     "name": "stdout",
     "output_type": "stream",
     "text": [
      "Smartphone Price Classification (Naïve Bayes)\n",
      "\n",
      "Dataset:\n",
      "   Battery_Capacity  RAM  Screen_Size Price_Category  Category_Encoded\n",
      "0              3000    4          5.5         Budget                 0\n",
      "1              3500    6          6.0      Mid-range                 1\n",
      "2              4000    8          6.5        Premium                 2\n",
      "3              2500    3          5.0         Budget                 0\n",
      "4              4500    8          6.7        Premium                 2\n",
      "5              3200    5          5.8      Mid-range                 1\n",
      "6              3700    6          6.2      Mid-range                 1\n",
      "7              2800    4          5.3         Budget                 0\n",
      "8              4200    8          6.6        Premium                 2\n",
      "9              3300    5          5.7      Mid-range                 1\n",
      "\n",
      "New Smartphone Prediction:\n",
      "Battery: 3200 mAh, RAM: 5 GB, Screen Size: 5.8 inches\n",
      "Price Category: Mid-range\n",
      "\n",
      "Confusion Matrix:\n",
      "[[2 0]\n",
      " [0 1]]\n",
      "\n",
      "Classification Report:\n"
     ]
    },
    {
     "ename": "ValueError",
     "evalue": "Number of classes, 2, does not match size of target_names, 3. Try specifying the labels parameter",
     "output_type": "error",
     "traceback": [
      "\u001b[1;31m---------------------------------------------------------------------------\u001b[0m",
      "\u001b[1;31mValueError\u001b[0m                                Traceback (most recent call last)",
      "Cell \u001b[1;32mIn[1], line 63\u001b[0m\n\u001b[0;32m     60\u001b[0m \u001b[38;5;28mprint\u001b[39m(confusion_matrix(y_test, y_pred))\n\u001b[0;32m     62\u001b[0m \u001b[38;5;28mprint\u001b[39m(\u001b[38;5;124m\"\u001b[39m\u001b[38;5;130;01m\\n\u001b[39;00m\u001b[38;5;124mClassification Report:\u001b[39m\u001b[38;5;124m\"\u001b[39m)\n\u001b[1;32m---> 63\u001b[0m \u001b[38;5;28mprint\u001b[39m(classification_report(y_test, y_pred, \n\u001b[0;32m     64\u001b[0m                             target_names\u001b[38;5;241m=\u001b[39mle_category\u001b[38;5;241m.\u001b[39mclasses_))\n\u001b[0;32m     66\u001b[0m \u001b[38;5;66;03m# Probability Calculation\u001b[39;00m\n\u001b[0;32m     67\u001b[0m prob_prediction \u001b[38;5;241m=\u001b[39m nb_classifier\u001b[38;5;241m.\u001b[39mpredict_proba(new_smartphone)\n",
      "File \u001b[1;32m~\\anaconda3\\Lib\\site-packages\\sklearn\\metrics\\_classification.py:2332\u001b[0m, in \u001b[0;36mclassification_report\u001b[1;34m(y_true, y_pred, labels, target_names, sample_weight, digits, output_dict, zero_division)\u001b[0m\n\u001b[0;32m   2326\u001b[0m         warnings\u001b[38;5;241m.\u001b[39mwarn(\n\u001b[0;32m   2327\u001b[0m             \u001b[38;5;124m\"\u001b[39m\u001b[38;5;124mlabels size, \u001b[39m\u001b[38;5;132;01m{0}\u001b[39;00m\u001b[38;5;124m, does not match size of target_names, \u001b[39m\u001b[38;5;132;01m{1}\u001b[39;00m\u001b[38;5;124m\"\u001b[39m\u001b[38;5;241m.\u001b[39mformat(\n\u001b[0;32m   2328\u001b[0m                 \u001b[38;5;28mlen\u001b[39m(labels), \u001b[38;5;28mlen\u001b[39m(target_names)\n\u001b[0;32m   2329\u001b[0m             )\n\u001b[0;32m   2330\u001b[0m         )\n\u001b[0;32m   2331\u001b[0m     \u001b[38;5;28;01melse\u001b[39;00m:\n\u001b[1;32m-> 2332\u001b[0m         \u001b[38;5;28;01mraise\u001b[39;00m \u001b[38;5;167;01mValueError\u001b[39;00m(\n\u001b[0;32m   2333\u001b[0m             \u001b[38;5;124m\"\u001b[39m\u001b[38;5;124mNumber of classes, \u001b[39m\u001b[38;5;132;01m{0}\u001b[39;00m\u001b[38;5;124m, does not match size of \u001b[39m\u001b[38;5;124m\"\u001b[39m\n\u001b[0;32m   2334\u001b[0m             \u001b[38;5;124m\"\u001b[39m\u001b[38;5;124mtarget_names, \u001b[39m\u001b[38;5;132;01m{1}\u001b[39;00m\u001b[38;5;124m. Try specifying the labels \u001b[39m\u001b[38;5;124m\"\u001b[39m\n\u001b[0;32m   2335\u001b[0m             \u001b[38;5;124m\"\u001b[39m\u001b[38;5;124mparameter\u001b[39m\u001b[38;5;124m\"\u001b[39m\u001b[38;5;241m.\u001b[39mformat(\u001b[38;5;28mlen\u001b[39m(labels), \u001b[38;5;28mlen\u001b[39m(target_names))\n\u001b[0;32m   2336\u001b[0m         )\n\u001b[0;32m   2337\u001b[0m \u001b[38;5;28;01mif\u001b[39;00m target_names \u001b[38;5;129;01mis\u001b[39;00m \u001b[38;5;28;01mNone\u001b[39;00m:\n\u001b[0;32m   2338\u001b[0m     target_names \u001b[38;5;241m=\u001b[39m [\u001b[38;5;124m\"\u001b[39m\u001b[38;5;132;01m%s\u001b[39;00m\u001b[38;5;124m\"\u001b[39m \u001b[38;5;241m%\u001b[39m l \u001b[38;5;28;01mfor\u001b[39;00m l \u001b[38;5;129;01min\u001b[39;00m labels]\n",
      "\u001b[1;31mValueError\u001b[0m: Number of classes, 2, does not match size of target_names, 3. Try specifying the labels parameter"
     ]
    }
   ],
   "source": [
    "import numpy as np\n",
    "import pandas as pd\n",
    "from sklearn.model_selection import train_test_split\n",
    "from sklearn.preprocessing import LabelEncoder, StandardScaler\n",
    "from sklearn.naive_bayes import GaussianNB\n",
    "from sklearn.metrics import classification_report, confusion_matrix\n",
    "\n",
    "# Create Comprehensive Dataset\n",
    "data = {\n",
    "    'Battery_Capacity': [3000, 3500, 4000, 2500, 4500, 3200, 3700, 2800, 4200, 3300],\n",
    "    'RAM': [4, 6, 8, 3, 8, 5, 6, 4, 8, 5],\n",
    "    'Screen_Size': [5.5, 6.0, 6.5, 5.0, 6.7, 5.8, 6.2, 5.3, 6.6, 5.7],\n",
    "    'Price_Category': ['Budget', 'Mid-range', 'Premium', 'Budget', 'Premium', \n",
    "                       'Mid-range', 'Mid-range', 'Budget', 'Premium', 'Mid-range']\n",
    "}\n",
    "\n",
    "# Create DataFrame\n",
    "df = pd.DataFrame(data)\n",
    "\n",
    "# Preprocessing\n",
    "# Encode categorical variables\n",
    "le_category = LabelEncoder()\n",
    "df['Category_Encoded'] = le_category.fit_transform(df['Price_Category'])\n",
    "\n",
    "# Feature Scaling\n",
    "scaler = StandardScaler()\n",
    "X = scaler.fit_transform(df[['Battery_Capacity', 'RAM', 'Screen_Size']])\n",
    "y = df['Category_Encoded']\n",
    "\n",
    "# Split the dataset\n",
    "X_train, X_test, y_train, y_test = train_test_split(\n",
    "    X, y, test_size=0.3, random_state=42\n",
    ")\n",
    "\n",
    "# Create Naïve Bayes Classifier\n",
    "nb_classifier = GaussianNB()\n",
    "\n",
    "# Train the model\n",
    "nb_classifier.fit(X_train, y_train)\n",
    "\n",
    "# Prepare new smartphone for prediction\n",
    "new_smartphone = scaler.transform([[3200, 5, 5.8]])\n",
    "\n",
    "# Prediction for new smartphone\n",
    "prediction = nb_classifier.predict(new_smartphone)\n",
    "\n",
    "# Output Results\n",
    "print(\"Smartphone Price Classification (Naïve Bayes)\")\n",
    "print(\"\\nDataset:\")\n",
    "print(df)\n",
    "\n",
    "print(\"\\nNew Smartphone Prediction:\")\n",
    "print(\"Battery: 3200 mAh, RAM: 5 GB, Screen Size: 5.8 inches\")\n",
    "print(\"Price Category:\", le_category.inverse_transform(prediction)[0])\n",
    "\n",
    "# Model Evaluation\n",
    "y_pred = nb_classifier.predict(X_test)\n",
    "\n",
    "print(\"\\nConfusion Matrix:\")\n",
    "print(confusion_matrix(y_test, y_pred))\n",
    "\n",
    "print(\"\\nClassification Report:\")\n",
    "print(classification_report(y_test, y_pred, \n",
    "                            target_names=le_category.classes_))\n",
    "\n",
    "# Probability Calculation\n",
    "prob_prediction = nb_classifier.predict_proba(new_smartphone)\n",
    "print(\"\\nPrice Category Probabilities:\")\n",
    "for i, prob in enumerate(prob_prediction[0]):\n",
    "    print(f\"{le_category.classes_[i]}: {prob:.2%}\")"
   ]
  },
  {
   "cell_type": "code",
   "execution_count": null,
   "id": "08bdf311-b792-42df-a2a1-7f9ac30b06f3",
   "metadata": {},
   "outputs": [],
   "source": []
  }
 ],
 "metadata": {
  "kernelspec": {
   "display_name": "Python 3 (ipykernel)",
   "language": "python",
   "name": "python3"
  },
  "language_info": {
   "codemirror_mode": {
    "name": "ipython",
    "version": 3
   },
   "file_extension": ".py",
   "mimetype": "text/x-python",
   "name": "python",
   "nbconvert_exporter": "python",
   "pygments_lexer": "ipython3",
   "version": "3.11.7"
  }
 },
 "nbformat": 4,
 "nbformat_minor": 5
}
